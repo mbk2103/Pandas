{
 "cells": [
  {
   "cell_type": "markdown",
   "id": "307eda44",
   "metadata": {},
   "source": [
    "## Introduction Pandas"
   ]
  },
  {
   "cell_type": "code",
   "execution_count": 1,
   "id": "360df0a5",
   "metadata": {},
   "outputs": [],
   "source": [
    "import numpy as np\n",
    "import pandas as pd"
   ]
  },
  {
   "cell_type": "markdown",
   "id": "c56628ad",
   "metadata": {},
   "source": [
    "## Series"
   ]
  },
  {
   "cell_type": "code",
   "execution_count": 2,
   "id": "7aa6ca6e",
   "metadata": {},
   "outputs": [],
   "source": [
    "myDict = {\"Andre\": 50, \"Jessica\": 30, \"John\": 40}"
   ]
  },
  {
   "cell_type": "code",
   "execution_count": 3,
   "id": "b8ed6258",
   "metadata": {},
   "outputs": [
    {
     "data": {
      "text/plain": [
       "Andre      50\n",
       "Jessica    30\n",
       "John       40\n",
       "dtype: int64"
      ]
     },
     "execution_count": 3,
     "metadata": {},
     "output_type": "execute_result"
    }
   ],
   "source": [
    "pd.Series(myDict)"
   ]
  },
  {
   "cell_type": "code",
   "execution_count": 4,
   "id": "79bc6f75",
   "metadata": {},
   "outputs": [
    {
     "data": {
      "text/plain": [
       "pandas.core.series.Series"
      ]
     },
     "execution_count": 4,
     "metadata": {},
     "output_type": "execute_result"
    }
   ],
   "source": [
    "type(pd.Series(myDict))"
   ]
  },
  {
   "cell_type": "code",
   "execution_count": 5,
   "id": "3bbd945a",
   "metadata": {},
   "outputs": [],
   "source": [
    "theirAges = [50, 30, 40]\n",
    "theirNames = [\"Andre\", \"Jessica\", \"John\"]"
   ]
  },
  {
   "cell_type": "code",
   "execution_count": 6,
   "id": "9badf2b3",
   "metadata": {},
   "outputs": [
    {
     "data": {
      "text/plain": [
       "0    50\n",
       "1    30\n",
       "2    40\n",
       "dtype: int64"
      ]
     },
     "execution_count": 6,
     "metadata": {},
     "output_type": "execute_result"
    }
   ],
   "source": [
    "pd.Series(theirAges)"
   ]
  },
  {
   "cell_type": "code",
   "execution_count": 7,
   "id": "f56a489f",
   "metadata": {},
   "outputs": [
    {
     "data": {
      "text/plain": [
       "Andre      50\n",
       "Jessica    30\n",
       "John       40\n",
       "dtype: int64"
      ]
     },
     "execution_count": 7,
     "metadata": {},
     "output_type": "execute_result"
    }
   ],
   "source": [
    "pd.Series(theirAges, theirNames)"
   ]
  },
  {
   "cell_type": "code",
   "execution_count": 8,
   "id": "a8c9ff7b",
   "metadata": {},
   "outputs": [
    {
     "data": {
      "text/plain": [
       "Andre      50\n",
       "Jessica    30\n",
       "John       40\n",
       "dtype: int64"
      ]
     },
     "execution_count": 8,
     "metadata": {},
     "output_type": "execute_result"
    }
   ],
   "source": [
    "pd.Series(data = theirAges, index = theirNames)"
   ]
  },
  {
   "cell_type": "code",
   "execution_count": 9,
   "id": "73b8495c",
   "metadata": {},
   "outputs": [],
   "source": [
    "numpyArray = np.array([50, 30, 40])"
   ]
  },
  {
   "cell_type": "code",
   "execution_count": 10,
   "id": "0bea24ae",
   "metadata": {},
   "outputs": [
    {
     "data": {
      "text/plain": [
       "array([50, 30, 40])"
      ]
     },
     "execution_count": 10,
     "metadata": {},
     "output_type": "execute_result"
    }
   ],
   "source": [
    "numpyArray"
   ]
  },
  {
   "cell_type": "code",
   "execution_count": 11,
   "id": "b5f68ebe",
   "metadata": {},
   "outputs": [
    {
     "data": {
      "text/plain": [
       "0    50\n",
       "1    30\n",
       "2    40\n",
       "dtype: int32"
      ]
     },
     "execution_count": 11,
     "metadata": {},
     "output_type": "execute_result"
    }
   ],
   "source": [
    "pd.Series(numpyArray)"
   ]
  },
  {
   "cell_type": "code",
   "execution_count": 12,
   "id": "b8f89b9f",
   "metadata": {},
   "outputs": [
    {
     "data": {
      "text/plain": [
       "Andre      50\n",
       "Jessica    30\n",
       "John       40\n",
       "dtype: int32"
      ]
     },
     "execution_count": 12,
     "metadata": {},
     "output_type": "execute_result"
    }
   ],
   "source": [
    "pd.Series(numpyArray, theirNames)"
   ]
  },
  {
   "cell_type": "code",
   "execution_count": 13,
   "id": "c161f72a",
   "metadata": {},
   "outputs": [
    {
     "data": {
      "text/plain": [
       "1     Art\n",
       "2    Amar\n",
       "3    Tech\n",
       "dtype: object"
      ]
     },
     "execution_count": 13,
     "metadata": {},
     "output_type": "execute_result"
    }
   ],
   "source": [
    "pd.Series([\"Art\", \"Amar\", \"Tech\"], [1, 2, 3])"
   ]
  },
  {
   "cell_type": "code",
   "execution_count": 14,
   "id": "f48698c6",
   "metadata": {},
   "outputs": [],
   "source": [
    "ResultofTournament = pd.Series([8, 3, 2], [\"Art\", \"Amar\", \"Tech\"])"
   ]
  },
  {
   "cell_type": "code",
   "execution_count": 15,
   "id": "a41f06ca",
   "metadata": {},
   "outputs": [
    {
     "data": {
      "text/plain": [
       "Art     8\n",
       "Amar    3\n",
       "Tech    2\n",
       "dtype: int64"
      ]
     },
     "execution_count": 15,
     "metadata": {},
     "output_type": "execute_result"
    }
   ],
   "source": [
    "ResultofTournament"
   ]
  },
  {
   "cell_type": "code",
   "execution_count": 16,
   "id": "ce0d9313",
   "metadata": {},
   "outputs": [],
   "source": [
    "rResultofTournament = pd.Series([7, 4, 1], [\"Art\", \"Amar\", \"Tech\"])"
   ]
  },
  {
   "cell_type": "code",
   "execution_count": 17,
   "id": "8ad7076f",
   "metadata": {},
   "outputs": [
    {
     "data": {
      "text/plain": [
       "Art     7\n",
       "Amar    4\n",
       "Tech    1\n",
       "dtype: int64"
      ]
     },
     "execution_count": 17,
     "metadata": {},
     "output_type": "execute_result"
    }
   ],
   "source": [
    "rResultofTournament"
   ]
  },
  {
   "cell_type": "code",
   "execution_count": 18,
   "id": "ce6b33e6",
   "metadata": {},
   "outputs": [
    {
     "data": {
      "text/plain": [
       "7"
      ]
     },
     "execution_count": 18,
     "metadata": {},
     "output_type": "execute_result"
    }
   ],
   "source": [
    "rResultofTournament[\"Art\"]"
   ]
  },
  {
   "cell_type": "code",
   "execution_count": 19,
   "id": "1d16ac0c",
   "metadata": {},
   "outputs": [],
   "source": [
    "lastResult = ResultofTournament + rResultofTournament"
   ]
  },
  {
   "cell_type": "code",
   "execution_count": 20,
   "id": "3f617079",
   "metadata": {},
   "outputs": [
    {
     "data": {
      "text/plain": [
       "Art     15\n",
       "Amar     7\n",
       "Tech     3\n",
       "dtype: int64"
      ]
     },
     "execution_count": 20,
     "metadata": {},
     "output_type": "execute_result"
    }
   ],
   "source": [
    "lastResult"
   ]
  },
  {
   "cell_type": "code",
   "execution_count": 21,
   "id": "a2f12a38",
   "metadata": {},
   "outputs": [],
   "source": [
    "diffSeries = pd.Series([1, 3, 5, 7], [\"a\", \"b\", \"c\", \"d\"])"
   ]
  },
  {
   "cell_type": "code",
   "execution_count": 22,
   "id": "442fa903",
   "metadata": {},
   "outputs": [],
   "source": [
    "diff2Series = pd.Series([2, 4, 6, 8], [\"a\", \"b\", \"c\", \"f\"])"
   ]
  },
  {
   "cell_type": "code",
   "execution_count": 23,
   "id": "6d4713c8",
   "metadata": {},
   "outputs": [],
   "source": [
    "oLastResult = diffSeries + diff2Series"
   ]
  },
  {
   "cell_type": "code",
   "execution_count": 24,
   "id": "6e92aade",
   "metadata": {},
   "outputs": [
    {
     "data": {
      "text/plain": [
       "a     3.0\n",
       "b     7.0\n",
       "c    11.0\n",
       "d     NaN\n",
       "f     NaN\n",
       "dtype: float64"
      ]
     },
     "execution_count": 24,
     "metadata": {},
     "output_type": "execute_result"
    }
   ],
   "source": [
    "oLastResult"
   ]
  },
  {
   "cell_type": "markdown",
   "id": "66aa49b5",
   "metadata": {},
   "source": [
    "## Data Frame"
   ]
  },
  {
   "cell_type": "code",
   "execution_count": 25,
   "id": "122ab806",
   "metadata": {},
   "outputs": [],
   "source": [
    "data = np.random.randn(4,3)"
   ]
  },
  {
   "cell_type": "code",
   "execution_count": 26,
   "id": "fcf16934",
   "metadata": {},
   "outputs": [
    {
     "data": {
      "text/plain": [
       "array([[ 0.1074913 , -1.8857336 ,  0.46713219],\n",
       "       [-1.88482237,  0.92535134, -0.91338556],\n",
       "       [-0.94115473, -1.85948181, -0.06105061],\n",
       "       [-0.62119573,  0.36146174,  1.15744584]])"
      ]
     },
     "execution_count": 26,
     "metadata": {},
     "output_type": "execute_result"
    }
   ],
   "source": [
    "data"
   ]
  },
  {
   "cell_type": "code",
   "execution_count": 27,
   "id": "e64f3430",
   "metadata": {},
   "outputs": [],
   "source": [
    "dataFrame = pd.DataFrame(data)"
   ]
  },
  {
   "cell_type": "code",
   "execution_count": 28,
   "id": "8cda1c42",
   "metadata": {},
   "outputs": [
    {
     "data": {
      "text/html": [
       "<div>\n",
       "<style scoped>\n",
       "    .dataframe tbody tr th:only-of-type {\n",
       "        vertical-align: middle;\n",
       "    }\n",
       "\n",
       "    .dataframe tbody tr th {\n",
       "        vertical-align: top;\n",
       "    }\n",
       "\n",
       "    .dataframe thead th {\n",
       "        text-align: right;\n",
       "    }\n",
       "</style>\n",
       "<table border=\"1\" class=\"dataframe\">\n",
       "  <thead>\n",
       "    <tr style=\"text-align: right;\">\n",
       "      <th></th>\n",
       "      <th>0</th>\n",
       "      <th>1</th>\n",
       "      <th>2</th>\n",
       "    </tr>\n",
       "  </thead>\n",
       "  <tbody>\n",
       "    <tr>\n",
       "      <th>0</th>\n",
       "      <td>0.107491</td>\n",
       "      <td>-1.885734</td>\n",
       "      <td>0.467132</td>\n",
       "    </tr>\n",
       "    <tr>\n",
       "      <th>1</th>\n",
       "      <td>-1.884822</td>\n",
       "      <td>0.925351</td>\n",
       "      <td>-0.913386</td>\n",
       "    </tr>\n",
       "    <tr>\n",
       "      <th>2</th>\n",
       "      <td>-0.941155</td>\n",
       "      <td>-1.859482</td>\n",
       "      <td>-0.061051</td>\n",
       "    </tr>\n",
       "    <tr>\n",
       "      <th>3</th>\n",
       "      <td>-0.621196</td>\n",
       "      <td>0.361462</td>\n",
       "      <td>1.157446</td>\n",
       "    </tr>\n",
       "  </tbody>\n",
       "</table>\n",
       "</div>"
      ],
      "text/plain": [
       "          0         1         2\n",
       "0  0.107491 -1.885734  0.467132\n",
       "1 -1.884822  0.925351 -0.913386\n",
       "2 -0.941155 -1.859482 -0.061051\n",
       "3 -0.621196  0.361462  1.157446"
      ]
     },
     "execution_count": 28,
     "metadata": {},
     "output_type": "execute_result"
    }
   ],
   "source": [
    "dataFrame"
   ]
  },
  {
   "cell_type": "code",
   "execution_count": 29,
   "id": "6fb1b9bc",
   "metadata": {},
   "outputs": [
    {
     "data": {
      "text/plain": [
       "0   -1.885734\n",
       "1    0.925351\n",
       "2   -1.859482\n",
       "3    0.361462\n",
       "Name: 1, dtype: float64"
      ]
     },
     "execution_count": 29,
     "metadata": {},
     "output_type": "execute_result"
    }
   ],
   "source": [
    "dataFrame[1]"
   ]
  },
  {
   "cell_type": "code",
   "execution_count": 30,
   "id": "63c0319f",
   "metadata": {},
   "outputs": [
    {
     "data": {
      "text/plain": [
       "pandas.core.series.Series"
      ]
     },
     "execution_count": 30,
     "metadata": {},
     "output_type": "execute_result"
    }
   ],
   "source": [
    "type(dataFrame[2])"
   ]
  },
  {
   "cell_type": "code",
   "execution_count": 31,
   "id": "f1b8d959",
   "metadata": {},
   "outputs": [],
   "source": [
    "newDataFrame = pd.DataFrame(data, index = [\"Art\", \"Amar\", \"Tech\", \"artamartech\"], columns = [\"Price\", \"Age\", \"Profession\"])"
   ]
  },
  {
   "cell_type": "code",
   "execution_count": 32,
   "id": "129919d6",
   "metadata": {},
   "outputs": [
    {
     "data": {
      "text/html": [
       "<div>\n",
       "<style scoped>\n",
       "    .dataframe tbody tr th:only-of-type {\n",
       "        vertical-align: middle;\n",
       "    }\n",
       "\n",
       "    .dataframe tbody tr th {\n",
       "        vertical-align: top;\n",
       "    }\n",
       "\n",
       "    .dataframe thead th {\n",
       "        text-align: right;\n",
       "    }\n",
       "</style>\n",
       "<table border=\"1\" class=\"dataframe\">\n",
       "  <thead>\n",
       "    <tr style=\"text-align: right;\">\n",
       "      <th></th>\n",
       "      <th>Price</th>\n",
       "      <th>Age</th>\n",
       "      <th>Profession</th>\n",
       "    </tr>\n",
       "  </thead>\n",
       "  <tbody>\n",
       "    <tr>\n",
       "      <th>Art</th>\n",
       "      <td>0.107491</td>\n",
       "      <td>-1.885734</td>\n",
       "      <td>0.467132</td>\n",
       "    </tr>\n",
       "    <tr>\n",
       "      <th>Amar</th>\n",
       "      <td>-1.884822</td>\n",
       "      <td>0.925351</td>\n",
       "      <td>-0.913386</td>\n",
       "    </tr>\n",
       "    <tr>\n",
       "      <th>Tech</th>\n",
       "      <td>-0.941155</td>\n",
       "      <td>-1.859482</td>\n",
       "      <td>-0.061051</td>\n",
       "    </tr>\n",
       "    <tr>\n",
       "      <th>artamartech</th>\n",
       "      <td>-0.621196</td>\n",
       "      <td>0.361462</td>\n",
       "      <td>1.157446</td>\n",
       "    </tr>\n",
       "  </tbody>\n",
       "</table>\n",
       "</div>"
      ],
      "text/plain": [
       "                Price       Age  Profession\n",
       "Art          0.107491 -1.885734    0.467132\n",
       "Amar        -1.884822  0.925351   -0.913386\n",
       "Tech        -0.941155 -1.859482   -0.061051\n",
       "artamartech -0.621196  0.361462    1.157446"
      ]
     },
     "execution_count": 32,
     "metadata": {},
     "output_type": "execute_result"
    }
   ],
   "source": [
    "newDataFrame"
   ]
  },
  {
   "cell_type": "code",
   "execution_count": 33,
   "id": "50107351",
   "metadata": {},
   "outputs": [
    {
     "data": {
      "text/plain": [
       "Art           -1.885734\n",
       "Amar           0.925351\n",
       "Tech          -1.859482\n",
       "artamartech    0.361462\n",
       "Name: Age, dtype: float64"
      ]
     },
     "execution_count": 33,
     "metadata": {},
     "output_type": "execute_result"
    }
   ],
   "source": [
    "newDataFrame[\"Age\"]"
   ]
  },
  {
   "cell_type": "code",
   "execution_count": 34,
   "id": "68c4a8c8",
   "metadata": {},
   "outputs": [
    {
     "data": {
      "text/html": [
       "<div>\n",
       "<style scoped>\n",
       "    .dataframe tbody tr th:only-of-type {\n",
       "        vertical-align: middle;\n",
       "    }\n",
       "\n",
       "    .dataframe tbody tr th {\n",
       "        vertical-align: top;\n",
       "    }\n",
       "\n",
       "    .dataframe thead th {\n",
       "        text-align: right;\n",
       "    }\n",
       "</style>\n",
       "<table border=\"1\" class=\"dataframe\">\n",
       "  <thead>\n",
       "    <tr style=\"text-align: right;\">\n",
       "      <th></th>\n",
       "      <th>Price</th>\n",
       "      <th>Age</th>\n",
       "    </tr>\n",
       "  </thead>\n",
       "  <tbody>\n",
       "    <tr>\n",
       "      <th>Art</th>\n",
       "      <td>0.107491</td>\n",
       "      <td>-1.885734</td>\n",
       "    </tr>\n",
       "    <tr>\n",
       "      <th>Amar</th>\n",
       "      <td>-1.884822</td>\n",
       "      <td>0.925351</td>\n",
       "    </tr>\n",
       "    <tr>\n",
       "      <th>Tech</th>\n",
       "      <td>-0.941155</td>\n",
       "      <td>-1.859482</td>\n",
       "    </tr>\n",
       "    <tr>\n",
       "      <th>artamartech</th>\n",
       "      <td>-0.621196</td>\n",
       "      <td>0.361462</td>\n",
       "    </tr>\n",
       "  </tbody>\n",
       "</table>\n",
       "</div>"
      ],
      "text/plain": [
       "                Price       Age\n",
       "Art          0.107491 -1.885734\n",
       "Amar        -1.884822  0.925351\n",
       "Tech        -0.941155 -1.859482\n",
       "artamartech -0.621196  0.361462"
      ]
     },
     "execution_count": 34,
     "metadata": {},
     "output_type": "execute_result"
    }
   ],
   "source": [
    "newDataFrame[[\"Price\", \"Age\"]]"
   ]
  },
  {
   "cell_type": "code",
   "execution_count": 35,
   "id": "bc038bc8",
   "metadata": {},
   "outputs": [
    {
     "data": {
      "text/plain": [
       "Price        -0.941155\n",
       "Age          -1.859482\n",
       "Profession   -0.061051\n",
       "Name: Tech, dtype: float64"
      ]
     },
     "execution_count": 35,
     "metadata": {},
     "output_type": "execute_result"
    }
   ],
   "source": [
    "newDataFrame.loc[\"Tech\"]"
   ]
  },
  {
   "cell_type": "code",
   "execution_count": 36,
   "id": "1e67260d",
   "metadata": {},
   "outputs": [
    {
     "data": {
      "text/plain": [
       "Price         0.107491\n",
       "Age          -1.885734\n",
       "Profession    0.467132\n",
       "Name: Art, dtype: float64"
      ]
     },
     "execution_count": 36,
     "metadata": {},
     "output_type": "execute_result"
    }
   ],
   "source": [
    "newDataFrame.iloc[0]"
   ]
  },
  {
   "cell_type": "code",
   "execution_count": 37,
   "id": "94abf40b",
   "metadata": {},
   "outputs": [
    {
     "data": {
      "text/html": [
       "<div>\n",
       "<style scoped>\n",
       "    .dataframe tbody tr th:only-of-type {\n",
       "        vertical-align: middle;\n",
       "    }\n",
       "\n",
       "    .dataframe tbody tr th {\n",
       "        vertical-align: top;\n",
       "    }\n",
       "\n",
       "    .dataframe thead th {\n",
       "        text-align: right;\n",
       "    }\n",
       "</style>\n",
       "<table border=\"1\" class=\"dataframe\">\n",
       "  <thead>\n",
       "    <tr style=\"text-align: right;\">\n",
       "      <th></th>\n",
       "      <th>Price</th>\n",
       "      <th>Age</th>\n",
       "      <th>Profession</th>\n",
       "    </tr>\n",
       "  </thead>\n",
       "  <tbody>\n",
       "    <tr>\n",
       "      <th>Art</th>\n",
       "      <td>0.107491</td>\n",
       "      <td>-1.885734</td>\n",
       "      <td>0.467132</td>\n",
       "    </tr>\n",
       "    <tr>\n",
       "      <th>Amar</th>\n",
       "      <td>-1.884822</td>\n",
       "      <td>0.925351</td>\n",
       "      <td>-0.913386</td>\n",
       "    </tr>\n",
       "    <tr>\n",
       "      <th>Tech</th>\n",
       "      <td>-0.941155</td>\n",
       "      <td>-1.859482</td>\n",
       "      <td>-0.061051</td>\n",
       "    </tr>\n",
       "    <tr>\n",
       "      <th>artamartech</th>\n",
       "      <td>-0.621196</td>\n",
       "      <td>0.361462</td>\n",
       "      <td>1.157446</td>\n",
       "    </tr>\n",
       "  </tbody>\n",
       "</table>\n",
       "</div>"
      ],
      "text/plain": [
       "                Price       Age  Profession\n",
       "Art          0.107491 -1.885734    0.467132\n",
       "Amar        -1.884822  0.925351   -0.913386\n",
       "Tech        -0.941155 -1.859482   -0.061051\n",
       "artamartech -0.621196  0.361462    1.157446"
      ]
     },
     "execution_count": 37,
     "metadata": {},
     "output_type": "execute_result"
    }
   ],
   "source": [
    "newDataFrame"
   ]
  },
  {
   "cell_type": "code",
   "execution_count": 38,
   "id": "99172788",
   "metadata": {},
   "outputs": [
    {
     "data": {
      "text/plain": [
       "Art            0.107491\n",
       "Amar          -1.884822\n",
       "Tech          -0.941155\n",
       "artamartech   -0.621196\n",
       "Name: Price, dtype: float64"
      ]
     },
     "execution_count": 38,
     "metadata": {},
     "output_type": "execute_result"
    }
   ],
   "source": [
    "newDataFrame[\"Price\"]"
   ]
  },
  {
   "cell_type": "code",
   "execution_count": 39,
   "id": "41cb21c0",
   "metadata": {},
   "outputs": [],
   "source": [
    "newDataFrame[\"Retired Age\"] = newDataFrame[\"Age\"] + newDataFrame[\"Age\"]"
   ]
  },
  {
   "cell_type": "code",
   "execution_count": 40,
   "id": "7610c118",
   "metadata": {},
   "outputs": [
    {
     "data": {
      "text/html": [
       "<div>\n",
       "<style scoped>\n",
       "    .dataframe tbody tr th:only-of-type {\n",
       "        vertical-align: middle;\n",
       "    }\n",
       "\n",
       "    .dataframe tbody tr th {\n",
       "        vertical-align: top;\n",
       "    }\n",
       "\n",
       "    .dataframe thead th {\n",
       "        text-align: right;\n",
       "    }\n",
       "</style>\n",
       "<table border=\"1\" class=\"dataframe\">\n",
       "  <thead>\n",
       "    <tr style=\"text-align: right;\">\n",
       "      <th></th>\n",
       "      <th>Price</th>\n",
       "      <th>Age</th>\n",
       "      <th>Profession</th>\n",
       "      <th>Retired Age</th>\n",
       "    </tr>\n",
       "  </thead>\n",
       "  <tbody>\n",
       "    <tr>\n",
       "      <th>Art</th>\n",
       "      <td>0.107491</td>\n",
       "      <td>-1.885734</td>\n",
       "      <td>0.467132</td>\n",
       "      <td>-3.771467</td>\n",
       "    </tr>\n",
       "    <tr>\n",
       "      <th>Amar</th>\n",
       "      <td>-1.884822</td>\n",
       "      <td>0.925351</td>\n",
       "      <td>-0.913386</td>\n",
       "      <td>1.850703</td>\n",
       "    </tr>\n",
       "    <tr>\n",
       "      <th>Tech</th>\n",
       "      <td>-0.941155</td>\n",
       "      <td>-1.859482</td>\n",
       "      <td>-0.061051</td>\n",
       "      <td>-3.718964</td>\n",
       "    </tr>\n",
       "    <tr>\n",
       "      <th>artamartech</th>\n",
       "      <td>-0.621196</td>\n",
       "      <td>0.361462</td>\n",
       "      <td>1.157446</td>\n",
       "      <td>0.722923</td>\n",
       "    </tr>\n",
       "  </tbody>\n",
       "</table>\n",
       "</div>"
      ],
      "text/plain": [
       "                Price       Age  Profession  Retired Age\n",
       "Art          0.107491 -1.885734    0.467132    -3.771467\n",
       "Amar        -1.884822  0.925351   -0.913386     1.850703\n",
       "Tech        -0.941155 -1.859482   -0.061051    -3.718964\n",
       "artamartech -0.621196  0.361462    1.157446     0.722923"
      ]
     },
     "execution_count": 40,
     "metadata": {},
     "output_type": "execute_result"
    }
   ],
   "source": [
    "newDataFrame"
   ]
  },
  {
   "cell_type": "code",
   "execution_count": 41,
   "id": "438f1d7b",
   "metadata": {},
   "outputs": [
    {
     "data": {
      "text/html": [
       "<div>\n",
       "<style scoped>\n",
       "    .dataframe tbody tr th:only-of-type {\n",
       "        vertical-align: middle;\n",
       "    }\n",
       "\n",
       "    .dataframe tbody tr th {\n",
       "        vertical-align: top;\n",
       "    }\n",
       "\n",
       "    .dataframe thead th {\n",
       "        text-align: right;\n",
       "    }\n",
       "</style>\n",
       "<table border=\"1\" class=\"dataframe\">\n",
       "  <thead>\n",
       "    <tr style=\"text-align: right;\">\n",
       "      <th></th>\n",
       "      <th>Price</th>\n",
       "      <th>Age</th>\n",
       "      <th>Profession</th>\n",
       "    </tr>\n",
       "  </thead>\n",
       "  <tbody>\n",
       "    <tr>\n",
       "      <th>Art</th>\n",
       "      <td>0.107491</td>\n",
       "      <td>-1.885734</td>\n",
       "      <td>0.467132</td>\n",
       "    </tr>\n",
       "    <tr>\n",
       "      <th>Amar</th>\n",
       "      <td>-1.884822</td>\n",
       "      <td>0.925351</td>\n",
       "      <td>-0.913386</td>\n",
       "    </tr>\n",
       "    <tr>\n",
       "      <th>Tech</th>\n",
       "      <td>-0.941155</td>\n",
       "      <td>-1.859482</td>\n",
       "      <td>-0.061051</td>\n",
       "    </tr>\n",
       "    <tr>\n",
       "      <th>artamartech</th>\n",
       "      <td>-0.621196</td>\n",
       "      <td>0.361462</td>\n",
       "      <td>1.157446</td>\n",
       "    </tr>\n",
       "  </tbody>\n",
       "</table>\n",
       "</div>"
      ],
      "text/plain": [
       "                Price       Age  Profession\n",
       "Art          0.107491 -1.885734    0.467132\n",
       "Amar        -1.884822  0.925351   -0.913386\n",
       "Tech        -0.941155 -1.859482   -0.061051\n",
       "artamartech -0.621196  0.361462    1.157446"
      ]
     },
     "execution_count": 41,
     "metadata": {},
     "output_type": "execute_result"
    }
   ],
   "source": [
    "newDataFrame.drop(\"Retired Age\", axis = 1)"
   ]
  },
  {
   "cell_type": "code",
   "execution_count": 42,
   "id": "e227c859",
   "metadata": {},
   "outputs": [
    {
     "data": {
      "text/html": [
       "<div>\n",
       "<style scoped>\n",
       "    .dataframe tbody tr th:only-of-type {\n",
       "        vertical-align: middle;\n",
       "    }\n",
       "\n",
       "    .dataframe tbody tr th {\n",
       "        vertical-align: top;\n",
       "    }\n",
       "\n",
       "    .dataframe thead th {\n",
       "        text-align: right;\n",
       "    }\n",
       "</style>\n",
       "<table border=\"1\" class=\"dataframe\">\n",
       "  <thead>\n",
       "    <tr style=\"text-align: right;\">\n",
       "      <th></th>\n",
       "      <th>Price</th>\n",
       "      <th>Age</th>\n",
       "      <th>Profession</th>\n",
       "      <th>Retired Age</th>\n",
       "    </tr>\n",
       "  </thead>\n",
       "  <tbody>\n",
       "    <tr>\n",
       "      <th>Art</th>\n",
       "      <td>0.107491</td>\n",
       "      <td>-1.885734</td>\n",
       "      <td>0.467132</td>\n",
       "      <td>-3.771467</td>\n",
       "    </tr>\n",
       "    <tr>\n",
       "      <th>Amar</th>\n",
       "      <td>-1.884822</td>\n",
       "      <td>0.925351</td>\n",
       "      <td>-0.913386</td>\n",
       "      <td>1.850703</td>\n",
       "    </tr>\n",
       "    <tr>\n",
       "      <th>Tech</th>\n",
       "      <td>-0.941155</td>\n",
       "      <td>-1.859482</td>\n",
       "      <td>-0.061051</td>\n",
       "      <td>-3.718964</td>\n",
       "    </tr>\n",
       "  </tbody>\n",
       "</table>\n",
       "</div>"
      ],
      "text/plain": [
       "         Price       Age  Profession  Retired Age\n",
       "Art   0.107491 -1.885734    0.467132    -3.771467\n",
       "Amar -1.884822  0.925351   -0.913386     1.850703\n",
       "Tech -0.941155 -1.859482   -0.061051    -3.718964"
      ]
     },
     "execution_count": 42,
     "metadata": {},
     "output_type": "execute_result"
    }
   ],
   "source": [
    "newDataFrame.drop(\"artamartech\", axis = 0)"
   ]
  },
  {
   "cell_type": "code",
   "execution_count": 43,
   "id": "3b9604dd",
   "metadata": {},
   "outputs": [
    {
     "data": {
      "text/html": [
       "<div>\n",
       "<style scoped>\n",
       "    .dataframe tbody tr th:only-of-type {\n",
       "        vertical-align: middle;\n",
       "    }\n",
       "\n",
       "    .dataframe tbody tr th {\n",
       "        vertical-align: top;\n",
       "    }\n",
       "\n",
       "    .dataframe thead th {\n",
       "        text-align: right;\n",
       "    }\n",
       "</style>\n",
       "<table border=\"1\" class=\"dataframe\">\n",
       "  <thead>\n",
       "    <tr style=\"text-align: right;\">\n",
       "      <th></th>\n",
       "      <th>Price</th>\n",
       "      <th>Age</th>\n",
       "      <th>Profession</th>\n",
       "      <th>Retired Age</th>\n",
       "    </tr>\n",
       "  </thead>\n",
       "  <tbody>\n",
       "    <tr>\n",
       "      <th>Art</th>\n",
       "      <td>0.107491</td>\n",
       "      <td>-1.885734</td>\n",
       "      <td>0.467132</td>\n",
       "      <td>-3.771467</td>\n",
       "    </tr>\n",
       "    <tr>\n",
       "      <th>Amar</th>\n",
       "      <td>-1.884822</td>\n",
       "      <td>0.925351</td>\n",
       "      <td>-0.913386</td>\n",
       "      <td>1.850703</td>\n",
       "    </tr>\n",
       "    <tr>\n",
       "      <th>Tech</th>\n",
       "      <td>-0.941155</td>\n",
       "      <td>-1.859482</td>\n",
       "      <td>-0.061051</td>\n",
       "      <td>-3.718964</td>\n",
       "    </tr>\n",
       "    <tr>\n",
       "      <th>artamartech</th>\n",
       "      <td>-0.621196</td>\n",
       "      <td>0.361462</td>\n",
       "      <td>1.157446</td>\n",
       "      <td>0.722923</td>\n",
       "    </tr>\n",
       "  </tbody>\n",
       "</table>\n",
       "</div>"
      ],
      "text/plain": [
       "                Price       Age  Profession  Retired Age\n",
       "Art          0.107491 -1.885734    0.467132    -3.771467\n",
       "Amar        -1.884822  0.925351   -0.913386     1.850703\n",
       "Tech        -0.941155 -1.859482   -0.061051    -3.718964\n",
       "artamartech -0.621196  0.361462    1.157446     0.722923"
      ]
     },
     "execution_count": 43,
     "metadata": {},
     "output_type": "execute_result"
    }
   ],
   "source": [
    "newDataFrame"
   ]
  },
  {
   "cell_type": "code",
   "execution_count": 44,
   "id": "365bcdeb",
   "metadata": {},
   "outputs": [],
   "source": [
    "newDataFrame.drop(\"Retired Age\", axis = 1, inplace = True)"
   ]
  },
  {
   "cell_type": "code",
   "execution_count": 45,
   "id": "8179bc72",
   "metadata": {},
   "outputs": [
    {
     "data": {
      "text/html": [
       "<div>\n",
       "<style scoped>\n",
       "    .dataframe tbody tr th:only-of-type {\n",
       "        vertical-align: middle;\n",
       "    }\n",
       "\n",
       "    .dataframe tbody tr th {\n",
       "        vertical-align: top;\n",
       "    }\n",
       "\n",
       "    .dataframe thead th {\n",
       "        text-align: right;\n",
       "    }\n",
       "</style>\n",
       "<table border=\"1\" class=\"dataframe\">\n",
       "  <thead>\n",
       "    <tr style=\"text-align: right;\">\n",
       "      <th></th>\n",
       "      <th>Price</th>\n",
       "      <th>Age</th>\n",
       "      <th>Profession</th>\n",
       "    </tr>\n",
       "  </thead>\n",
       "  <tbody>\n",
       "    <tr>\n",
       "      <th>Art</th>\n",
       "      <td>0.107491</td>\n",
       "      <td>-1.885734</td>\n",
       "      <td>0.467132</td>\n",
       "    </tr>\n",
       "    <tr>\n",
       "      <th>Amar</th>\n",
       "      <td>-1.884822</td>\n",
       "      <td>0.925351</td>\n",
       "      <td>-0.913386</td>\n",
       "    </tr>\n",
       "    <tr>\n",
       "      <th>Tech</th>\n",
       "      <td>-0.941155</td>\n",
       "      <td>-1.859482</td>\n",
       "      <td>-0.061051</td>\n",
       "    </tr>\n",
       "    <tr>\n",
       "      <th>artamartech</th>\n",
       "      <td>-0.621196</td>\n",
       "      <td>0.361462</td>\n",
       "      <td>1.157446</td>\n",
       "    </tr>\n",
       "  </tbody>\n",
       "</table>\n",
       "</div>"
      ],
      "text/plain": [
       "                Price       Age  Profession\n",
       "Art          0.107491 -1.885734    0.467132\n",
       "Amar        -1.884822  0.925351   -0.913386\n",
       "Tech        -0.941155 -1.859482   -0.061051\n",
       "artamartech -0.621196  0.361462    1.157446"
      ]
     },
     "execution_count": 45,
     "metadata": {},
     "output_type": "execute_result"
    }
   ],
   "source": [
    "newDataFrame"
   ]
  },
  {
   "cell_type": "code",
   "execution_count": 46,
   "id": "5c75c53f",
   "metadata": {},
   "outputs": [
    {
     "data": {
      "text/plain": [
       "Price         0.107491\n",
       "Age          -1.885734\n",
       "Profession    0.467132\n",
       "Name: Art, dtype: float64"
      ]
     },
     "execution_count": 46,
     "metadata": {},
     "output_type": "execute_result"
    }
   ],
   "source": [
    "newDataFrame.loc[\"Art\"]"
   ]
  },
  {
   "cell_type": "code",
   "execution_count": 47,
   "id": "1a226735",
   "metadata": {},
   "outputs": [
    {
     "data": {
      "text/plain": [
       "-1.8857335977974878"
      ]
     },
     "execution_count": 47,
     "metadata": {},
     "output_type": "execute_result"
    }
   ],
   "source": [
    "newDataFrame.loc[\"Art\"][\"Age\"]"
   ]
  },
  {
   "cell_type": "code",
   "execution_count": 48,
   "id": "970dd5a7",
   "metadata": {},
   "outputs": [
    {
     "data": {
      "text/plain": [
       "-1.8857335977974878"
      ]
     },
     "execution_count": 48,
     "metadata": {},
     "output_type": "execute_result"
    }
   ],
   "source": [
    "newDataFrame.loc[\"Art\", \"Age\"]"
   ]
  },
  {
   "cell_type": "code",
   "execution_count": 49,
   "id": "1176d84d",
   "metadata": {},
   "outputs": [
    {
     "data": {
      "text/html": [
       "<div>\n",
       "<style scoped>\n",
       "    .dataframe tbody tr th:only-of-type {\n",
       "        vertical-align: middle;\n",
       "    }\n",
       "\n",
       "    .dataframe tbody tr th {\n",
       "        vertical-align: top;\n",
       "    }\n",
       "\n",
       "    .dataframe thead th {\n",
       "        text-align: right;\n",
       "    }\n",
       "</style>\n",
       "<table border=\"1\" class=\"dataframe\">\n",
       "  <thead>\n",
       "    <tr style=\"text-align: right;\">\n",
       "      <th></th>\n",
       "      <th>Price</th>\n",
       "      <th>Age</th>\n",
       "      <th>Profession</th>\n",
       "    </tr>\n",
       "  </thead>\n",
       "  <tbody>\n",
       "    <tr>\n",
       "      <th>Art</th>\n",
       "      <td>False</td>\n",
       "      <td>True</td>\n",
       "      <td>False</td>\n",
       "    </tr>\n",
       "    <tr>\n",
       "      <th>Amar</th>\n",
       "      <td>True</td>\n",
       "      <td>False</td>\n",
       "      <td>True</td>\n",
       "    </tr>\n",
       "    <tr>\n",
       "      <th>Tech</th>\n",
       "      <td>True</td>\n",
       "      <td>True</td>\n",
       "      <td>True</td>\n",
       "    </tr>\n",
       "    <tr>\n",
       "      <th>artamartech</th>\n",
       "      <td>True</td>\n",
       "      <td>False</td>\n",
       "      <td>False</td>\n",
       "    </tr>\n",
       "  </tbody>\n",
       "</table>\n",
       "</div>"
      ],
      "text/plain": [
       "             Price    Age  Profession\n",
       "Art          False   True       False\n",
       "Amar          True  False        True\n",
       "Tech          True   True        True\n",
       "artamartech   True  False       False"
      ]
     },
     "execution_count": 49,
     "metadata": {},
     "output_type": "execute_result"
    }
   ],
   "source": [
    "newDataFrame < 0"
   ]
  },
  {
   "cell_type": "code",
   "execution_count": 50,
   "id": "0cd99d1f",
   "metadata": {},
   "outputs": [
    {
     "data": {
      "text/html": [
       "<div>\n",
       "<style scoped>\n",
       "    .dataframe tbody tr th:only-of-type {\n",
       "        vertical-align: middle;\n",
       "    }\n",
       "\n",
       "    .dataframe tbody tr th {\n",
       "        vertical-align: top;\n",
       "    }\n",
       "\n",
       "    .dataframe thead th {\n",
       "        text-align: right;\n",
       "    }\n",
       "</style>\n",
       "<table border=\"1\" class=\"dataframe\">\n",
       "  <thead>\n",
       "    <tr style=\"text-align: right;\">\n",
       "      <th></th>\n",
       "      <th>Price</th>\n",
       "      <th>Age</th>\n",
       "      <th>Profession</th>\n",
       "    </tr>\n",
       "  </thead>\n",
       "  <tbody>\n",
       "    <tr>\n",
       "      <th>Art</th>\n",
       "      <td>False</td>\n",
       "      <td>False</td>\n",
       "      <td>False</td>\n",
       "    </tr>\n",
       "    <tr>\n",
       "      <th>Amar</th>\n",
       "      <td>False</td>\n",
       "      <td>True</td>\n",
       "      <td>False</td>\n",
       "    </tr>\n",
       "    <tr>\n",
       "      <th>Tech</th>\n",
       "      <td>False</td>\n",
       "      <td>False</td>\n",
       "      <td>False</td>\n",
       "    </tr>\n",
       "    <tr>\n",
       "      <th>artamartech</th>\n",
       "      <td>False</td>\n",
       "      <td>False</td>\n",
       "      <td>True</td>\n",
       "    </tr>\n",
       "  </tbody>\n",
       "</table>\n",
       "</div>"
      ],
      "text/plain": [
       "             Price    Age  Profession\n",
       "Art          False  False       False\n",
       "Amar         False   True       False\n",
       "Tech         False  False       False\n",
       "artamartech  False  False        True"
      ]
     },
     "execution_count": 50,
     "metadata": {},
     "output_type": "execute_result"
    }
   ],
   "source": [
    "newDataFrame > 0.7"
   ]
  },
  {
   "cell_type": "code",
   "execution_count": 51,
   "id": "f170c93f",
   "metadata": {},
   "outputs": [],
   "source": [
    "booleanFrame = newDataFrame > 0.5"
   ]
  },
  {
   "cell_type": "code",
   "execution_count": 52,
   "id": "62815968",
   "metadata": {},
   "outputs": [
    {
     "data": {
      "text/html": [
       "<div>\n",
       "<style scoped>\n",
       "    .dataframe tbody tr th:only-of-type {\n",
       "        vertical-align: middle;\n",
       "    }\n",
       "\n",
       "    .dataframe tbody tr th {\n",
       "        vertical-align: top;\n",
       "    }\n",
       "\n",
       "    .dataframe thead th {\n",
       "        text-align: right;\n",
       "    }\n",
       "</style>\n",
       "<table border=\"1\" class=\"dataframe\">\n",
       "  <thead>\n",
       "    <tr style=\"text-align: right;\">\n",
       "      <th></th>\n",
       "      <th>Price</th>\n",
       "      <th>Age</th>\n",
       "      <th>Profession</th>\n",
       "    </tr>\n",
       "  </thead>\n",
       "  <tbody>\n",
       "    <tr>\n",
       "      <th>Art</th>\n",
       "      <td>NaN</td>\n",
       "      <td>NaN</td>\n",
       "      <td>NaN</td>\n",
       "    </tr>\n",
       "    <tr>\n",
       "      <th>Amar</th>\n",
       "      <td>NaN</td>\n",
       "      <td>0.925351</td>\n",
       "      <td>NaN</td>\n",
       "    </tr>\n",
       "    <tr>\n",
       "      <th>Tech</th>\n",
       "      <td>NaN</td>\n",
       "      <td>NaN</td>\n",
       "      <td>NaN</td>\n",
       "    </tr>\n",
       "    <tr>\n",
       "      <th>artamartech</th>\n",
       "      <td>NaN</td>\n",
       "      <td>NaN</td>\n",
       "      <td>1.157446</td>\n",
       "    </tr>\n",
       "  </tbody>\n",
       "</table>\n",
       "</div>"
      ],
      "text/plain": [
       "             Price       Age  Profession\n",
       "Art            NaN       NaN         NaN\n",
       "Amar           NaN  0.925351         NaN\n",
       "Tech           NaN       NaN         NaN\n",
       "artamartech    NaN       NaN    1.157446"
      ]
     },
     "execution_count": 52,
     "metadata": {},
     "output_type": "execute_result"
    }
   ],
   "source": [
    "newDataFrame[booleanFrame]"
   ]
  },
  {
   "cell_type": "code",
   "execution_count": 53,
   "id": "22a5225b",
   "metadata": {},
   "outputs": [
    {
     "data": {
      "text/plain": [
       "Art           -1.885734\n",
       "Amar           0.925351\n",
       "Tech          -1.859482\n",
       "artamartech    0.361462\n",
       "Name: Age, dtype: float64"
      ]
     },
     "execution_count": 53,
     "metadata": {},
     "output_type": "execute_result"
    }
   ],
   "source": [
    "newDataFrame[\"Age\"]"
   ]
  },
  {
   "cell_type": "code",
   "execution_count": 54,
   "id": "9a8ddbba",
   "metadata": {},
   "outputs": [
    {
     "data": {
      "text/html": [
       "<div>\n",
       "<style scoped>\n",
       "    .dataframe tbody tr th:only-of-type {\n",
       "        vertical-align: middle;\n",
       "    }\n",
       "\n",
       "    .dataframe tbody tr th {\n",
       "        vertical-align: top;\n",
       "    }\n",
       "\n",
       "    .dataframe thead th {\n",
       "        text-align: right;\n",
       "    }\n",
       "</style>\n",
       "<table border=\"1\" class=\"dataframe\">\n",
       "  <thead>\n",
       "    <tr style=\"text-align: right;\">\n",
       "      <th></th>\n",
       "      <th>Price</th>\n",
       "      <th>Age</th>\n",
       "      <th>Profession</th>\n",
       "    </tr>\n",
       "  </thead>\n",
       "  <tbody>\n",
       "    <tr>\n",
       "      <th>Amar</th>\n",
       "      <td>-1.884822</td>\n",
       "      <td>0.925351</td>\n",
       "      <td>-0.913386</td>\n",
       "    </tr>\n",
       "  </tbody>\n",
       "</table>\n",
       "</div>"
      ],
      "text/plain": [
       "         Price       Age  Profession\n",
       "Amar -1.884822  0.925351   -0.913386"
      ]
     },
     "execution_count": 54,
     "metadata": {},
     "output_type": "execute_result"
    }
   ],
   "source": [
    "newDataFrame[newDataFrame[\"Age\"] > 0.7]"
   ]
  },
  {
   "cell_type": "code",
   "execution_count": 55,
   "id": "9127564c",
   "metadata": {},
   "outputs": [
    {
     "data": {
      "text/html": [
       "<div>\n",
       "<style scoped>\n",
       "    .dataframe tbody tr th:only-of-type {\n",
       "        vertical-align: middle;\n",
       "    }\n",
       "\n",
       "    .dataframe tbody tr th {\n",
       "        vertical-align: top;\n",
       "    }\n",
       "\n",
       "    .dataframe thead th {\n",
       "        text-align: right;\n",
       "    }\n",
       "</style>\n",
       "<table border=\"1\" class=\"dataframe\">\n",
       "  <thead>\n",
       "    <tr style=\"text-align: right;\">\n",
       "      <th></th>\n",
       "      <th>Price</th>\n",
       "      <th>Age</th>\n",
       "      <th>Profession</th>\n",
       "    </tr>\n",
       "  </thead>\n",
       "  <tbody>\n",
       "    <tr>\n",
       "      <th>Art</th>\n",
       "      <td>0.107491</td>\n",
       "      <td>-1.885734</td>\n",
       "      <td>0.467132</td>\n",
       "    </tr>\n",
       "    <tr>\n",
       "      <th>Amar</th>\n",
       "      <td>-1.884822</td>\n",
       "      <td>0.925351</td>\n",
       "      <td>-0.913386</td>\n",
       "    </tr>\n",
       "    <tr>\n",
       "      <th>Tech</th>\n",
       "      <td>-0.941155</td>\n",
       "      <td>-1.859482</td>\n",
       "      <td>-0.061051</td>\n",
       "    </tr>\n",
       "    <tr>\n",
       "      <th>artamartech</th>\n",
       "      <td>-0.621196</td>\n",
       "      <td>0.361462</td>\n",
       "      <td>1.157446</td>\n",
       "    </tr>\n",
       "  </tbody>\n",
       "</table>\n",
       "</div>"
      ],
      "text/plain": [
       "                Price       Age  Profession\n",
       "Art          0.107491 -1.885734    0.467132\n",
       "Amar        -1.884822  0.925351   -0.913386\n",
       "Tech        -0.941155 -1.859482   -0.061051\n",
       "artamartech -0.621196  0.361462    1.157446"
      ]
     },
     "execution_count": 55,
     "metadata": {},
     "output_type": "execute_result"
    }
   ],
   "source": [
    "newDataFrame"
   ]
  },
  {
   "cell_type": "code",
   "execution_count": 56,
   "id": "cbd9fc83",
   "metadata": {},
   "outputs": [
    {
     "data": {
      "text/html": [
       "<div>\n",
       "<style scoped>\n",
       "    .dataframe tbody tr th:only-of-type {\n",
       "        vertical-align: middle;\n",
       "    }\n",
       "\n",
       "    .dataframe tbody tr th {\n",
       "        vertical-align: top;\n",
       "    }\n",
       "\n",
       "    .dataframe thead th {\n",
       "        text-align: right;\n",
       "    }\n",
       "</style>\n",
       "<table border=\"1\" class=\"dataframe\">\n",
       "  <thead>\n",
       "    <tr style=\"text-align: right;\">\n",
       "      <th></th>\n",
       "      <th>index</th>\n",
       "      <th>Price</th>\n",
       "      <th>Age</th>\n",
       "      <th>Profession</th>\n",
       "    </tr>\n",
       "  </thead>\n",
       "  <tbody>\n",
       "    <tr>\n",
       "      <th>0</th>\n",
       "      <td>Art</td>\n",
       "      <td>0.107491</td>\n",
       "      <td>-1.885734</td>\n",
       "      <td>0.467132</td>\n",
       "    </tr>\n",
       "    <tr>\n",
       "      <th>1</th>\n",
       "      <td>Amar</td>\n",
       "      <td>-1.884822</td>\n",
       "      <td>0.925351</td>\n",
       "      <td>-0.913386</td>\n",
       "    </tr>\n",
       "    <tr>\n",
       "      <th>2</th>\n",
       "      <td>Tech</td>\n",
       "      <td>-0.941155</td>\n",
       "      <td>-1.859482</td>\n",
       "      <td>-0.061051</td>\n",
       "    </tr>\n",
       "    <tr>\n",
       "      <th>3</th>\n",
       "      <td>artamartech</td>\n",
       "      <td>-0.621196</td>\n",
       "      <td>0.361462</td>\n",
       "      <td>1.157446</td>\n",
       "    </tr>\n",
       "  </tbody>\n",
       "</table>\n",
       "</div>"
      ],
      "text/plain": [
       "         index     Price       Age  Profession\n",
       "0          Art  0.107491 -1.885734    0.467132\n",
       "1         Amar -1.884822  0.925351   -0.913386\n",
       "2         Tech -0.941155 -1.859482   -0.061051\n",
       "3  artamartech -0.621196  0.361462    1.157446"
      ]
     },
     "execution_count": 56,
     "metadata": {},
     "output_type": "execute_result"
    }
   ],
   "source": [
    "newDataFrame.reset_index()"
   ]
  },
  {
   "cell_type": "code",
   "execution_count": 57,
   "id": "7a862c14",
   "metadata": {},
   "outputs": [
    {
     "data": {
      "text/html": [
       "<div>\n",
       "<style scoped>\n",
       "    .dataframe tbody tr th:only-of-type {\n",
       "        vertical-align: middle;\n",
       "    }\n",
       "\n",
       "    .dataframe tbody tr th {\n",
       "        vertical-align: top;\n",
       "    }\n",
       "\n",
       "    .dataframe thead th {\n",
       "        text-align: right;\n",
       "    }\n",
       "</style>\n",
       "<table border=\"1\" class=\"dataframe\">\n",
       "  <thead>\n",
       "    <tr style=\"text-align: right;\">\n",
       "      <th></th>\n",
       "      <th>Price</th>\n",
       "      <th>Age</th>\n",
       "      <th>Profession</th>\n",
       "    </tr>\n",
       "  </thead>\n",
       "  <tbody>\n",
       "    <tr>\n",
       "      <th>Art</th>\n",
       "      <td>0.107491</td>\n",
       "      <td>-1.885734</td>\n",
       "      <td>0.467132</td>\n",
       "    </tr>\n",
       "    <tr>\n",
       "      <th>Amar</th>\n",
       "      <td>-1.884822</td>\n",
       "      <td>0.925351</td>\n",
       "      <td>-0.913386</td>\n",
       "    </tr>\n",
       "    <tr>\n",
       "      <th>Tech</th>\n",
       "      <td>-0.941155</td>\n",
       "      <td>-1.859482</td>\n",
       "      <td>-0.061051</td>\n",
       "    </tr>\n",
       "    <tr>\n",
       "      <th>artamartech</th>\n",
       "      <td>-0.621196</td>\n",
       "      <td>0.361462</td>\n",
       "      <td>1.157446</td>\n",
       "    </tr>\n",
       "  </tbody>\n",
       "</table>\n",
       "</div>"
      ],
      "text/plain": [
       "                Price       Age  Profession\n",
       "Art          0.107491 -1.885734    0.467132\n",
       "Amar        -1.884822  0.925351   -0.913386\n",
       "Tech        -0.941155 -1.859482   -0.061051\n",
       "artamartech -0.621196  0.361462    1.157446"
      ]
     },
     "execution_count": 57,
     "metadata": {},
     "output_type": "execute_result"
    }
   ],
   "source": [
    "newDataFrame"
   ]
  },
  {
   "cell_type": "code",
   "execution_count": 58,
   "id": "410f7d78",
   "metadata": {},
   "outputs": [],
   "source": [
    "newIndexList = [\"tar\", \" rama\", \"hcet\", \"hcetramatar\"]"
   ]
  },
  {
   "cell_type": "code",
   "execution_count": 59,
   "id": "98e26352",
   "metadata": {},
   "outputs": [],
   "source": [
    "newDataFrame[\"New Index\"] = newIndexList"
   ]
  },
  {
   "cell_type": "code",
   "execution_count": 60,
   "id": "cc029fc7",
   "metadata": {},
   "outputs": [
    {
     "data": {
      "text/html": [
       "<div>\n",
       "<style scoped>\n",
       "    .dataframe tbody tr th:only-of-type {\n",
       "        vertical-align: middle;\n",
       "    }\n",
       "\n",
       "    .dataframe tbody tr th {\n",
       "        vertical-align: top;\n",
       "    }\n",
       "\n",
       "    .dataframe thead th {\n",
       "        text-align: right;\n",
       "    }\n",
       "</style>\n",
       "<table border=\"1\" class=\"dataframe\">\n",
       "  <thead>\n",
       "    <tr style=\"text-align: right;\">\n",
       "      <th></th>\n",
       "      <th>Price</th>\n",
       "      <th>Age</th>\n",
       "      <th>Profession</th>\n",
       "      <th>New Index</th>\n",
       "    </tr>\n",
       "  </thead>\n",
       "  <tbody>\n",
       "    <tr>\n",
       "      <th>Art</th>\n",
       "      <td>0.107491</td>\n",
       "      <td>-1.885734</td>\n",
       "      <td>0.467132</td>\n",
       "      <td>tar</td>\n",
       "    </tr>\n",
       "    <tr>\n",
       "      <th>Amar</th>\n",
       "      <td>-1.884822</td>\n",
       "      <td>0.925351</td>\n",
       "      <td>-0.913386</td>\n",
       "      <td>rama</td>\n",
       "    </tr>\n",
       "    <tr>\n",
       "      <th>Tech</th>\n",
       "      <td>-0.941155</td>\n",
       "      <td>-1.859482</td>\n",
       "      <td>-0.061051</td>\n",
       "      <td>hcet</td>\n",
       "    </tr>\n",
       "    <tr>\n",
       "      <th>artamartech</th>\n",
       "      <td>-0.621196</td>\n",
       "      <td>0.361462</td>\n",
       "      <td>1.157446</td>\n",
       "      <td>hcetramatar</td>\n",
       "    </tr>\n",
       "  </tbody>\n",
       "</table>\n",
       "</div>"
      ],
      "text/plain": [
       "                Price       Age  Profession    New Index\n",
       "Art          0.107491 -1.885734    0.467132          tar\n",
       "Amar        -1.884822  0.925351   -0.913386         rama\n",
       "Tech        -0.941155 -1.859482   -0.061051         hcet\n",
       "artamartech -0.621196  0.361462    1.157446  hcetramatar"
      ]
     },
     "execution_count": 60,
     "metadata": {},
     "output_type": "execute_result"
    }
   ],
   "source": [
    "newDataFrame"
   ]
  },
  {
   "cell_type": "code",
   "execution_count": 61,
   "id": "45dc1ef9",
   "metadata": {},
   "outputs": [
    {
     "data": {
      "text/html": [
       "<div>\n",
       "<style scoped>\n",
       "    .dataframe tbody tr th:only-of-type {\n",
       "        vertical-align: middle;\n",
       "    }\n",
       "\n",
       "    .dataframe tbody tr th {\n",
       "        vertical-align: top;\n",
       "    }\n",
       "\n",
       "    .dataframe thead th {\n",
       "        text-align: right;\n",
       "    }\n",
       "</style>\n",
       "<table border=\"1\" class=\"dataframe\">\n",
       "  <thead>\n",
       "    <tr style=\"text-align: right;\">\n",
       "      <th></th>\n",
       "      <th>Price</th>\n",
       "      <th>Age</th>\n",
       "      <th>Profession</th>\n",
       "    </tr>\n",
       "    <tr>\n",
       "      <th>New Index</th>\n",
       "      <th></th>\n",
       "      <th></th>\n",
       "      <th></th>\n",
       "    </tr>\n",
       "  </thead>\n",
       "  <tbody>\n",
       "    <tr>\n",
       "      <th>tar</th>\n",
       "      <td>0.107491</td>\n",
       "      <td>-1.885734</td>\n",
       "      <td>0.467132</td>\n",
       "    </tr>\n",
       "    <tr>\n",
       "      <th>rama</th>\n",
       "      <td>-1.884822</td>\n",
       "      <td>0.925351</td>\n",
       "      <td>-0.913386</td>\n",
       "    </tr>\n",
       "    <tr>\n",
       "      <th>hcet</th>\n",
       "      <td>-0.941155</td>\n",
       "      <td>-1.859482</td>\n",
       "      <td>-0.061051</td>\n",
       "    </tr>\n",
       "    <tr>\n",
       "      <th>hcetramatar</th>\n",
       "      <td>-0.621196</td>\n",
       "      <td>0.361462</td>\n",
       "      <td>1.157446</td>\n",
       "    </tr>\n",
       "  </tbody>\n",
       "</table>\n",
       "</div>"
      ],
      "text/plain": [
       "                Price       Age  Profession\n",
       "New Index                                  \n",
       "tar          0.107491 -1.885734    0.467132\n",
       " rama       -1.884822  0.925351   -0.913386\n",
       "hcet        -0.941155 -1.859482   -0.061051\n",
       "hcetramatar -0.621196  0.361462    1.157446"
      ]
     },
     "execution_count": 61,
     "metadata": {},
     "output_type": "execute_result"
    }
   ],
   "source": [
    "newDataFrame.set_index(\"New Index\")"
   ]
  },
  {
   "cell_type": "code",
   "execution_count": 62,
   "id": "899a8978",
   "metadata": {},
   "outputs": [
    {
     "data": {
      "text/html": [
       "<div>\n",
       "<style scoped>\n",
       "    .dataframe tbody tr th:only-of-type {\n",
       "        vertical-align: middle;\n",
       "    }\n",
       "\n",
       "    .dataframe tbody tr th {\n",
       "        vertical-align: top;\n",
       "    }\n",
       "\n",
       "    .dataframe thead th {\n",
       "        text-align: right;\n",
       "    }\n",
       "</style>\n",
       "<table border=\"1\" class=\"dataframe\">\n",
       "  <thead>\n",
       "    <tr style=\"text-align: right;\">\n",
       "      <th></th>\n",
       "      <th>Price</th>\n",
       "      <th>Age</th>\n",
       "      <th>Profession</th>\n",
       "      <th>New Index</th>\n",
       "    </tr>\n",
       "  </thead>\n",
       "  <tbody>\n",
       "    <tr>\n",
       "      <th>Art</th>\n",
       "      <td>0.107491</td>\n",
       "      <td>-1.885734</td>\n",
       "      <td>0.467132</td>\n",
       "      <td>tar</td>\n",
       "    </tr>\n",
       "    <tr>\n",
       "      <th>Amar</th>\n",
       "      <td>-1.884822</td>\n",
       "      <td>0.925351</td>\n",
       "      <td>-0.913386</td>\n",
       "      <td>rama</td>\n",
       "    </tr>\n",
       "    <tr>\n",
       "      <th>Tech</th>\n",
       "      <td>-0.941155</td>\n",
       "      <td>-1.859482</td>\n",
       "      <td>-0.061051</td>\n",
       "      <td>hcet</td>\n",
       "    </tr>\n",
       "    <tr>\n",
       "      <th>artamartech</th>\n",
       "      <td>-0.621196</td>\n",
       "      <td>0.361462</td>\n",
       "      <td>1.157446</td>\n",
       "      <td>hcetramatar</td>\n",
       "    </tr>\n",
       "  </tbody>\n",
       "</table>\n",
       "</div>"
      ],
      "text/plain": [
       "                Price       Age  Profession    New Index\n",
       "Art          0.107491 -1.885734    0.467132          tar\n",
       "Amar        -1.884822  0.925351   -0.913386         rama\n",
       "Tech        -0.941155 -1.859482   -0.061051         hcet\n",
       "artamartech -0.621196  0.361462    1.157446  hcetramatar"
      ]
     },
     "execution_count": 62,
     "metadata": {},
     "output_type": "execute_result"
    }
   ],
   "source": [
    "newDataFrame"
   ]
  },
  {
   "cell_type": "code",
   "execution_count": 63,
   "id": "df721c33",
   "metadata": {},
   "outputs": [],
   "source": [
    "newDataFrame.set_index(\"New Index\", inplace = True)"
   ]
  },
  {
   "cell_type": "code",
   "execution_count": 64,
   "id": "da98e2e3",
   "metadata": {},
   "outputs": [
    {
     "data": {
      "text/html": [
       "<div>\n",
       "<style scoped>\n",
       "    .dataframe tbody tr th:only-of-type {\n",
       "        vertical-align: middle;\n",
       "    }\n",
       "\n",
       "    .dataframe tbody tr th {\n",
       "        vertical-align: top;\n",
       "    }\n",
       "\n",
       "    .dataframe thead th {\n",
       "        text-align: right;\n",
       "    }\n",
       "</style>\n",
       "<table border=\"1\" class=\"dataframe\">\n",
       "  <thead>\n",
       "    <tr style=\"text-align: right;\">\n",
       "      <th></th>\n",
       "      <th>Price</th>\n",
       "      <th>Age</th>\n",
       "      <th>Profession</th>\n",
       "    </tr>\n",
       "    <tr>\n",
       "      <th>New Index</th>\n",
       "      <th></th>\n",
       "      <th></th>\n",
       "      <th></th>\n",
       "    </tr>\n",
       "  </thead>\n",
       "  <tbody>\n",
       "    <tr>\n",
       "      <th>tar</th>\n",
       "      <td>0.107491</td>\n",
       "      <td>-1.885734</td>\n",
       "      <td>0.467132</td>\n",
       "    </tr>\n",
       "    <tr>\n",
       "      <th>rama</th>\n",
       "      <td>-1.884822</td>\n",
       "      <td>0.925351</td>\n",
       "      <td>-0.913386</td>\n",
       "    </tr>\n",
       "    <tr>\n",
       "      <th>hcet</th>\n",
       "      <td>-0.941155</td>\n",
       "      <td>-1.859482</td>\n",
       "      <td>-0.061051</td>\n",
       "    </tr>\n",
       "    <tr>\n",
       "      <th>hcetramatar</th>\n",
       "      <td>-0.621196</td>\n",
       "      <td>0.361462</td>\n",
       "      <td>1.157446</td>\n",
       "    </tr>\n",
       "  </tbody>\n",
       "</table>\n",
       "</div>"
      ],
      "text/plain": [
       "                Price       Age  Profession\n",
       "New Index                                  \n",
       "tar          0.107491 -1.885734    0.467132\n",
       " rama       -1.884822  0.925351   -0.913386\n",
       "hcet        -0.941155 -1.859482   -0.061051\n",
       "hcetramatar -0.621196  0.361462    1.157446"
      ]
     },
     "execution_count": 64,
     "metadata": {},
     "output_type": "execute_result"
    }
   ],
   "source": [
    "newDataFrame"
   ]
  },
  {
   "cell_type": "code",
   "execution_count": 65,
   "id": "4bf08de8",
   "metadata": {},
   "outputs": [
    {
     "data": {
      "text/plain": [
       "Price         0.107491\n",
       "Age          -1.885734\n",
       "Profession    0.467132\n",
       "Name: tar, dtype: float64"
      ]
     },
     "execution_count": 65,
     "metadata": {},
     "output_type": "execute_result"
    }
   ],
   "source": [
    "newDataFrame.loc[\"tar\"]"
   ]
  },
  {
   "cell_type": "markdown",
   "id": "dca7ffac",
   "metadata": {},
   "source": [
    "### Multi Index"
   ]
  },
  {
   "cell_type": "code",
   "execution_count": 66,
   "id": "dc4387f4",
   "metadata": {},
   "outputs": [],
   "source": [
    "firstIndex = [\"Simpson\", \"Simpson\", \"Simpson\", \"South Park\", \"South Park\", \"South Park\"]"
   ]
  },
  {
   "cell_type": "code",
   "execution_count": 67,
   "id": "5c36db65",
   "metadata": {},
   "outputs": [],
   "source": [
    "subIndex = [\"Homer\", \"Bart\", \"Marge\", \"Cartman\", \"Kenny\", \"Kyle\"]"
   ]
  },
  {
   "cell_type": "code",
   "execution_count": 68,
   "id": "cbb42299",
   "metadata": {},
   "outputs": [],
   "source": [
    "mergeIndex = list(zip(firstIndex, subIndex))"
   ]
  },
  {
   "cell_type": "code",
   "execution_count": 69,
   "id": "823c8cb1",
   "metadata": {},
   "outputs": [
    {
     "data": {
      "text/plain": [
       "[('Simpson', 'Homer'),\n",
       " ('Simpson', 'Bart'),\n",
       " ('Simpson', 'Marge'),\n",
       " ('South Park', 'Cartman'),\n",
       " ('South Park', 'Kenny'),\n",
       " ('South Park', 'Kyle')]"
      ]
     },
     "execution_count": 69,
     "metadata": {},
     "output_type": "execute_result"
    }
   ],
   "source": [
    "mergeIndex"
   ]
  },
  {
   "cell_type": "code",
   "execution_count": 70,
   "id": "f28a9918",
   "metadata": {},
   "outputs": [],
   "source": [
    "mergeIndex = pd.MultiIndex.from_tuples(mergeIndex)"
   ]
  },
  {
   "cell_type": "code",
   "execution_count": 71,
   "id": "ded60104",
   "metadata": {},
   "outputs": [
    {
     "data": {
      "text/plain": [
       "MultiIndex([(   'Simpson',   'Homer'),\n",
       "            (   'Simpson',    'Bart'),\n",
       "            (   'Simpson',   'Marge'),\n",
       "            ('South Park', 'Cartman'),\n",
       "            ('South Park',   'Kenny'),\n",
       "            ('South Park',    'Kyle')],\n",
       "           )"
      ]
     },
     "execution_count": 71,
     "metadata": {},
     "output_type": "execute_result"
    }
   ],
   "source": [
    "mergeIndex"
   ]
  },
  {
   "cell_type": "code",
   "execution_count": 72,
   "id": "a163dd0e",
   "metadata": {},
   "outputs": [
    {
     "data": {
      "text/plain": [
       "pandas.core.indexes.multi.MultiIndex"
      ]
     },
     "execution_count": 72,
     "metadata": {},
     "output_type": "execute_result"
    }
   ],
   "source": [
    "type(mergeIndex)"
   ]
  },
  {
   "cell_type": "code",
   "execution_count": 73,
   "id": "32853579",
   "metadata": {},
   "outputs": [],
   "source": [
    "myCartoonList = [[40, \"A\"], [30, \"B\"], [10, \"C\"], [5, \"D\"], [7, \"E\"], [50, \"F\"]]"
   ]
  },
  {
   "cell_type": "code",
   "execution_count": 74,
   "id": "1e3301d4",
   "metadata": {},
   "outputs": [],
   "source": [
    "cartoonNumpyArray = np.array(myCartoonList)"
   ]
  },
  {
   "cell_type": "code",
   "execution_count": 75,
   "id": "ea028211",
   "metadata": {},
   "outputs": [],
   "source": [
    "cartoonDataFrame = pd.DataFrame(cartoonNumpyArray, index = mergeIndex, columns = [\"Age\", \"Profession\"])"
   ]
  },
  {
   "cell_type": "code",
   "execution_count": 76,
   "id": "5f7ee324",
   "metadata": {},
   "outputs": [
    {
     "data": {
      "text/html": [
       "<div>\n",
       "<style scoped>\n",
       "    .dataframe tbody tr th:only-of-type {\n",
       "        vertical-align: middle;\n",
       "    }\n",
       "\n",
       "    .dataframe tbody tr th {\n",
       "        vertical-align: top;\n",
       "    }\n",
       "\n",
       "    .dataframe thead th {\n",
       "        text-align: right;\n",
       "    }\n",
       "</style>\n",
       "<table border=\"1\" class=\"dataframe\">\n",
       "  <thead>\n",
       "    <tr style=\"text-align: right;\">\n",
       "      <th></th>\n",
       "      <th></th>\n",
       "      <th>Age</th>\n",
       "      <th>Profession</th>\n",
       "    </tr>\n",
       "  </thead>\n",
       "  <tbody>\n",
       "    <tr>\n",
       "      <th rowspan=\"3\" valign=\"top\">Simpson</th>\n",
       "      <th>Homer</th>\n",
       "      <td>40</td>\n",
       "      <td>A</td>\n",
       "    </tr>\n",
       "    <tr>\n",
       "      <th>Bart</th>\n",
       "      <td>30</td>\n",
       "      <td>B</td>\n",
       "    </tr>\n",
       "    <tr>\n",
       "      <th>Marge</th>\n",
       "      <td>10</td>\n",
       "      <td>C</td>\n",
       "    </tr>\n",
       "    <tr>\n",
       "      <th rowspan=\"3\" valign=\"top\">South Park</th>\n",
       "      <th>Cartman</th>\n",
       "      <td>5</td>\n",
       "      <td>D</td>\n",
       "    </tr>\n",
       "    <tr>\n",
       "      <th>Kenny</th>\n",
       "      <td>7</td>\n",
       "      <td>E</td>\n",
       "    </tr>\n",
       "    <tr>\n",
       "      <th>Kyle</th>\n",
       "      <td>50</td>\n",
       "      <td>F</td>\n",
       "    </tr>\n",
       "  </tbody>\n",
       "</table>\n",
       "</div>"
      ],
      "text/plain": [
       "                   Age Profession\n",
       "Simpson    Homer    40          A\n",
       "           Bart     30          B\n",
       "           Marge    10          C\n",
       "South Park Cartman   5          D\n",
       "           Kenny     7          E\n",
       "           Kyle     50          F"
      ]
     },
     "execution_count": 76,
     "metadata": {},
     "output_type": "execute_result"
    }
   ],
   "source": [
    "cartoonDataFrame"
   ]
  },
  {
   "cell_type": "code",
   "execution_count": 77,
   "id": "d42de60f",
   "metadata": {},
   "outputs": [
    {
     "data": {
      "text/html": [
       "<div>\n",
       "<style scoped>\n",
       "    .dataframe tbody tr th:only-of-type {\n",
       "        vertical-align: middle;\n",
       "    }\n",
       "\n",
       "    .dataframe tbody tr th {\n",
       "        vertical-align: top;\n",
       "    }\n",
       "\n",
       "    .dataframe thead th {\n",
       "        text-align: right;\n",
       "    }\n",
       "</style>\n",
       "<table border=\"1\" class=\"dataframe\">\n",
       "  <thead>\n",
       "    <tr style=\"text-align: right;\">\n",
       "      <th></th>\n",
       "      <th>Age</th>\n",
       "      <th>Profession</th>\n",
       "    </tr>\n",
       "  </thead>\n",
       "  <tbody>\n",
       "    <tr>\n",
       "      <th>Homer</th>\n",
       "      <td>40</td>\n",
       "      <td>A</td>\n",
       "    </tr>\n",
       "    <tr>\n",
       "      <th>Bart</th>\n",
       "      <td>30</td>\n",
       "      <td>B</td>\n",
       "    </tr>\n",
       "    <tr>\n",
       "      <th>Marge</th>\n",
       "      <td>10</td>\n",
       "      <td>C</td>\n",
       "    </tr>\n",
       "  </tbody>\n",
       "</table>\n",
       "</div>"
      ],
      "text/plain": [
       "      Age Profession\n",
       "Homer  40          A\n",
       "Bart   30          B\n",
       "Marge  10          C"
      ]
     },
     "execution_count": 77,
     "metadata": {},
     "output_type": "execute_result"
    }
   ],
   "source": [
    "cartoonDataFrame.loc[\"Simpson\"]"
   ]
  },
  {
   "cell_type": "code",
   "execution_count": 78,
   "id": "d9d3b839",
   "metadata": {},
   "outputs": [
    {
     "data": {
      "text/html": [
       "<div>\n",
       "<style scoped>\n",
       "    .dataframe tbody tr th:only-of-type {\n",
       "        vertical-align: middle;\n",
       "    }\n",
       "\n",
       "    .dataframe tbody tr th {\n",
       "        vertical-align: top;\n",
       "    }\n",
       "\n",
       "    .dataframe thead th {\n",
       "        text-align: right;\n",
       "    }\n",
       "</style>\n",
       "<table border=\"1\" class=\"dataframe\">\n",
       "  <thead>\n",
       "    <tr style=\"text-align: right;\">\n",
       "      <th></th>\n",
       "      <th>Age</th>\n",
       "      <th>Profession</th>\n",
       "    </tr>\n",
       "  </thead>\n",
       "  <tbody>\n",
       "    <tr>\n",
       "      <th>Cartman</th>\n",
       "      <td>5</td>\n",
       "      <td>D</td>\n",
       "    </tr>\n",
       "    <tr>\n",
       "      <th>Kenny</th>\n",
       "      <td>7</td>\n",
       "      <td>E</td>\n",
       "    </tr>\n",
       "    <tr>\n",
       "      <th>Kyle</th>\n",
       "      <td>50</td>\n",
       "      <td>F</td>\n",
       "    </tr>\n",
       "  </tbody>\n",
       "</table>\n",
       "</div>"
      ],
      "text/plain": [
       "        Age Profession\n",
       "Cartman   5          D\n",
       "Kenny     7          E\n",
       "Kyle     50          F"
      ]
     },
     "execution_count": 78,
     "metadata": {},
     "output_type": "execute_result"
    }
   ],
   "source": [
    "cartoonDataFrame.loc[\"South Park\"]"
   ]
  },
  {
   "cell_type": "code",
   "execution_count": 79,
   "id": "01ac998b",
   "metadata": {},
   "outputs": [
    {
     "data": {
      "text/plain": [
       "Age           7\n",
       "Profession    E\n",
       "Name: (South Park, Kenny), dtype: object"
      ]
     },
     "execution_count": 79,
     "metadata": {},
     "output_type": "execute_result"
    }
   ],
   "source": [
    "cartoonDataFrame.loc[\"South Park\", \"Kenny\"]"
   ]
  },
  {
   "cell_type": "code",
   "execution_count": 80,
   "id": "ad46dd26",
   "metadata": {},
   "outputs": [
    {
     "data": {
      "text/plain": [
       "Age           7\n",
       "Profession    E\n",
       "Name: Kenny, dtype: object"
      ]
     },
     "execution_count": 80,
     "metadata": {},
     "output_type": "execute_result"
    }
   ],
   "source": [
    "cartoonDataFrame.loc[\"South Park\"].loc[\"Kenny\"]"
   ]
  },
  {
   "cell_type": "code",
   "execution_count": 81,
   "id": "874174f0",
   "metadata": {},
   "outputs": [],
   "source": [
    "cartoonDataFrame.index.names = [\"Film Adı\", \"İsim\"]"
   ]
  },
  {
   "cell_type": "code",
   "execution_count": 82,
   "id": "60e12d23",
   "metadata": {},
   "outputs": [
    {
     "data": {
      "text/html": [
       "<div>\n",
       "<style scoped>\n",
       "    .dataframe tbody tr th:only-of-type {\n",
       "        vertical-align: middle;\n",
       "    }\n",
       "\n",
       "    .dataframe tbody tr th {\n",
       "        vertical-align: top;\n",
       "    }\n",
       "\n",
       "    .dataframe thead th {\n",
       "        text-align: right;\n",
       "    }\n",
       "</style>\n",
       "<table border=\"1\" class=\"dataframe\">\n",
       "  <thead>\n",
       "    <tr style=\"text-align: right;\">\n",
       "      <th></th>\n",
       "      <th></th>\n",
       "      <th>Age</th>\n",
       "      <th>Profession</th>\n",
       "    </tr>\n",
       "    <tr>\n",
       "      <th>Film Adı</th>\n",
       "      <th>İsim</th>\n",
       "      <th></th>\n",
       "      <th></th>\n",
       "    </tr>\n",
       "  </thead>\n",
       "  <tbody>\n",
       "    <tr>\n",
       "      <th rowspan=\"3\" valign=\"top\">Simpson</th>\n",
       "      <th>Homer</th>\n",
       "      <td>40</td>\n",
       "      <td>A</td>\n",
       "    </tr>\n",
       "    <tr>\n",
       "      <th>Bart</th>\n",
       "      <td>30</td>\n",
       "      <td>B</td>\n",
       "    </tr>\n",
       "    <tr>\n",
       "      <th>Marge</th>\n",
       "      <td>10</td>\n",
       "      <td>C</td>\n",
       "    </tr>\n",
       "    <tr>\n",
       "      <th rowspan=\"3\" valign=\"top\">South Park</th>\n",
       "      <th>Cartman</th>\n",
       "      <td>5</td>\n",
       "      <td>D</td>\n",
       "    </tr>\n",
       "    <tr>\n",
       "      <th>Kenny</th>\n",
       "      <td>7</td>\n",
       "      <td>E</td>\n",
       "    </tr>\n",
       "    <tr>\n",
       "      <th>Kyle</th>\n",
       "      <td>50</td>\n",
       "      <td>F</td>\n",
       "    </tr>\n",
       "  </tbody>\n",
       "</table>\n",
       "</div>"
      ],
      "text/plain": [
       "                   Age Profession\n",
       "Film Adı   İsim                  \n",
       "Simpson    Homer    40          A\n",
       "           Bart     30          B\n",
       "           Marge    10          C\n",
       "South Park Cartman   5          D\n",
       "           Kenny     7          E\n",
       "           Kyle     50          F"
      ]
     },
     "execution_count": 82,
     "metadata": {},
     "output_type": "execute_result"
    }
   ],
   "source": [
    "cartoonDataFrame"
   ]
  }
 ],
 "metadata": {
  "kernelspec": {
   "display_name": "Python 3 (ipykernel)",
   "language": "python",
   "name": "python3"
  },
  "language_info": {
   "codemirror_mode": {
    "name": "ipython",
    "version": 3
   },
   "file_extension": ".py",
   "mimetype": "text/x-python",
   "name": "python",
   "nbconvert_exporter": "python",
   "pygments_lexer": "ipython3",
   "version": "3.9.12"
  }
 },
 "nbformat": 4,
 "nbformat_minor": 5
}
